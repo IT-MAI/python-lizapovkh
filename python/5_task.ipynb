{
 "cells": [
  {
   "cell_type": "markdown",
   "id": "85755de8",
   "metadata": {},
   "source": [
    "# Самостоятельное задание #5\n",
    "\n",
    "\n",
    "### Задание 1\n",
    "\n",
    "Допишите функцию, которая принимает список, выбирает из него все элементы с четным индексом и возвращает их в виде списка."
   ]
  },
  {
   "cell_type": "code",
   "execution_count": 29,
   "id": "6ef6d9b3",
   "metadata": {},
   "outputs": [
    {
     "name": "stdout",
     "output_type": "stream",
     "text": [
      "введите количество элементов массива - 7\n",
      "0\n",
      "1\n",
      "2\n",
      "3\n",
      "4\n",
      "5\n",
      "6\n",
      "[0, 2, 4, 6]\n"
     ]
    }
   ],
   "source": [
    "n=int(input('введите количество элементов массива - '))\n",
    "b=[]\n",
    "c=[]\n",
    "for i in range (n):\n",
    "    x=int(input())\n",
    "    b.append (x)\n",
    "def sp(c):\n",
    "    for j in range (0, n, 2):\n",
    "        c.append (b[j])\n",
    "    return c\n",
    "print (sp(c))"
   ]
  },
  {
   "cell_type": "markdown",
   "id": "443974c9",
   "metadata": {},
   "source": [
    "### Задание 2\n",
    "\n",
    "Допишите функцию, которая принимает список, выбирает из него все элементы, которые больше предыдущего и возвращает их в виде списка.\n"
   ]
  },
  {
   "cell_type": "code",
   "execution_count": 28,
   "id": "3a8cf925",
   "metadata": {},
   "outputs": [
    {
     "name": "stdout",
     "output_type": "stream",
     "text": [
      "введите количество элементов массива - 7\n",
      "1\n",
      "2\n",
      "1\n",
      "3\n",
      "4\n",
      "2\n",
      "7\n",
      "[2, 3, 4, 7]\n"
     ]
    }
   ],
   "source": [
    "n=int(input('введите количество элементов массива - '))\n",
    "b=[]\n",
    "c=[]\n",
    "for i in range (n):\n",
    "    x=int(input())\n",
    "    b.append (x)\n",
    "def sp(c):\n",
    "    for j in range (n):\n",
    "        if b[j]> b[j-1]:\n",
    "            c.append (b[j])\n",
    "    return c\n",
    "print (sp(c))"
   ]
  },
  {
   "cell_type": "markdown",
   "id": "34524ede",
   "metadata": {},
   "source": [
    "### Задание 3\n",
    "\n",
    "Допишите функцию, которая принимает список, меняет местами наибольший и наименьший элементы и возвращает этот список.\n"
   ]
  },
  {
   "cell_type": "code",
   "execution_count": 62,
   "id": "06d0201e",
   "metadata": {},
   "outputs": [
    {
     "name": "stdout",
     "output_type": "stream",
     "text": [
      "введите количество элементов массива - 6\n",
      "2\n",
      "5\n",
      "467\n",
      "2\n",
      "9\n",
      "0\n",
      "[2, 5, 0, 2, 9, 467]\n"
     ]
    }
   ],
   "source": [
    "n=int(input('введите количество элементов массива - '))\n",
    "b=[]              #исходный список \n",
    "c=[]              #список на выходе\n",
    "ex=0         #переменная для поиска наибольшего элемента, с которой будем сравнивать; для этого присваиваем ей наименьшее число\n",
    "sm=2147483647 #аналогично для наименьшего \n",
    "for i in range (n):\n",
    "    x=int(input())\n",
    "    b.append (x)         #создаем массив из n элементов\n",
    "for k in range (n):\n",
    "    if (b[k]> ex):\n",
    "        ex = b[k]        #ищем наибольший элемент массива\n",
    "    elif (b[k]< sm):\n",
    "        sm =b[k]         #аналогично с наименьшим\n",
    "def sp(c):\n",
    "    for j in range (n):\n",
    "        if b[j]== sm:\n",
    "            c.append (ex)  #если i-ый элемент массива наименьший, добавляем в итоговый массив значение наибольшего\n",
    "        elif b[j]== ex :\n",
    "            c.append (sm)  #аналогично с наибольшим\n",
    "        else:\n",
    "            c.append (b[j])\n",
    "    return c\n",
    "print (sp(c))"
   ]
  }
 ],
 "metadata": {
  "kernelspec": {
   "display_name": "Python 3",
   "language": "python",
   "name": "python3"
  },
  "language_info": {
   "codemirror_mode": {
    "name": "ipython",
    "version": 3
   },
   "file_extension": ".py",
   "mimetype": "text/x-python",
   "name": "python",
   "nbconvert_exporter": "python",
   "pygments_lexer": "ipython3",
   "version": "3.8.8"
  }
 },
 "nbformat": 4,
 "nbformat_minor": 5
}
